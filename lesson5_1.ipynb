Соединение с базой, получение курсора:
import psycopg2

# Параметры соединения
conn_string= "host='192.168.1.81' port=54320 dbname='my_database' user='root' password='postgres'" 

# Создаем соединение (оно поддерживает контекстный менеджер, рекомендую пользоваться им)
# Создаем курсор - это специальный объект который делает запросы и получает их результаты
with psycopg2.connect(conn_string) as conn, conn.cursor() as cursor:
    query = 'select * from customer limit 2' # запрос к БД
    cursor.execute(query) # выполнение запроса
    result = cursor.fetchone() # получение результата
    print(result)
    



Запись в базу:
import psycopg2

conn_string= "host='192.168.1.81' port=54320 dbname='my_database' user='root' password='postgres'" 

with psycopg2.connect(conn_string) as conn, conn.cursor() as cursor:
    row = (-999, 'name', 'address', 0, 'phone', 0, 'mktsegment', 'comment') # кортеж для вставки
    insert = """
    insert into customer (
           c_custkey   
         , c_name      
         , c_address   
         , c_nationkey 
         , c_phone     
         , c_acctbal   
         , c_mktsegment
         , c_comment
    )
    values
    ({values})
    """.format(
    # биндим параметры в строку, чтобы избежать sql-иньекций (best practice)
    values=cursor.mogrify("%s, %s, %s, %s, %s, %s, %s, %s", row).decode('utf-8')
    )
    print('sql запрос:', insert)
    cursor.execute(insert)
    conn.commit() # комитим транзакцию
    cursor.execute('select * from customer where c_custkey < 0')
    result = cursor.fetchall()
    print('результат вставки:', result)


etl процесс дампа таблицы customer:
import psycopg2

conn_string= "host='192.168.1.81' port=54320 dbname='my_database' user='root' password='postgres'" 
with psycopg2.connect(conn_string) as conn, conn.cursor() as cursor:
    q = "COPY customer TO STDOUT WITH DELIMITER ',' CSV HEADER;"
    with open('resultsfile.csv', 'w') as f:
        cursor.copy_expert(q, f)


Проверим извлечение данных с помощью pandas:
import pandas as pd

pd.read_csv('resultsfile.csv')



Загрузка данных в хранилище:

import psycopg2
conn_string= "host='192.168.1.81' port=5433 dbname='my_database2' user='root' password='postgres'" 
with psycopg2.connect(conn_string) as conn, conn.cursor() as cursor:
    q = "COPY customer from STDIN WITH DELIMITER ',' CSV HEADER;"
    with open('resultsfile.csv', 'r') as f:
        cursor.copy_expert(q, f)


Проверка результата работы скрипта:

import psycopg2
conn_string= "host='192.168.1.81' port=5433 dbname='my_database2' user='root' password='postgres'" 
with psycopg2.connect(conn_string) as conn, conn.cursor() as cursor:
    cursor.execute('select count(*) from customer')
    print(cursor.fetchall())


